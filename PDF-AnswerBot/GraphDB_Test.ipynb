{
 "cells": [
  {
   "cell_type": "code",
   "execution_count": 11,
   "metadata": {},
   "outputs": [],
   "source": [
    "from llama_index.core import SimpleDirectoryReader\n",
    "from llama_index.core.prompts.prompts import SimpleInputPrompt\n",
    "from llama_index.llms.ollama import Ollama\n",
    "from llama_index.embeddings.huggingface import HuggingFaceEmbedding\n",
    "from llama_index.core import Settings\n",
    "from llama_index.core import KnowledgeGraphIndex\n",
    "from llama_index.core import StorageContext\n",
    "from llama_index.graph_stores.neo4j import Neo4jGraphStore\n",
    "from llama_index.core import Document\n",
    "\n",
    "from PIL import Image\n",
    "import pytesseract\n",
    "import os\n",
    "import fitz"
   ]
  },
  {
   "cell_type": "code",
   "execution_count": 12,
   "metadata": {},
   "outputs": [
    {
     "name": "stdout",
     "output_type": "stream",
     "text": [
      "[Document(id_='b502bb76-7c73-4bfd-8b54-d5f0ee4efc1b', embedding=None, metadata={'file_name': 'draft.txt'}, excluded_embed_metadata_keys=[], excluded_llm_metadata_keys=[], relationships={}, text=\"Yazat's full name is yazat mishra. He is 21 years old\", mimetype='text/plain', start_char_idx=None, end_char_idx=None, text_template='{metadata_str}\\n\\n{content}', metadata_template='{key}: {value}', metadata_seperator='\\n'), Document(id_='4df27428-ddfb-48dd-bc35-087848299b85', embedding=None, metadata={'file_name': 'image.png'}, excluded_embed_metadata_keys=[], excluded_llm_metadata_keys=[], relationships={}, text='Yazat is from Delhi, he has pursued his high school education from Amity Noida.|\\n\\n', mimetype='text/plain', start_char_idx=None, end_char_idx=None, text_template='{metadata_str}\\n\\n{content}', metadata_template='{key}: {value}', metadata_seperator='\\n'), Document(id_='c5f6618a-a40f-468e-a199-e56f8ec04f7a', embedding=None, metadata={'file_name': 'rank.pdf'}, excluded_embed_metadata_keys=[], excluded_llm_metadata_keys=[], relationships={}, text=\" \\nराष्ट्रीय  प्रौद्योगिकी  संस्थान  मिजोरि \\nNATIONAL INSTITUTE OF TECHNOLOGY MIZORAM \\n(An Institution of National Importance under Ministry of Education, Govt. of India) \\nचलतलांि, आइजोल, मिजोरि / CHALTLANG, AIZAWL, MIZORAM – 796012 \\nPhone: 0389 - 2391236 / 2391774 / 2391699       Email: registraroffice@nitmz.ac.in       Website: www.nitmz.ac.in \\nDate: 09 /03/ 2024 \\nBonafide/Rank Certificate  \\n \\nThis is to certify that Mr. Yazat Mishra, S/O Mr. Rakesh Mishra, Enroll No \\nBT21EC037 is a bonafide student of National Institute of Technology Mizoram. He \\nis currently studying in the 3rd year of Bachelor of Technology (B. Tech) in the \\nDepartment of Electronics and Communication Engineering for the academic \\ncalendar 2023-2024. \\nHe has successfully completed the 5th semester examination and scored CGPA \\n9.48 on 10 - points scale. His rank, on the basis of CGPA, is 1st out of total 34 \\nstudents in his Electronics and Communication Engineering branch, which \\nrepresents top 20% in the class. \\nThe students of NIT Mizoram are allowed to undertake Industrial Training and \\nSummer Internship from May 15, 2024, to July 29, 2024, as per the institute's \\nacademic calendar.  \\nThis certificate has been issued only for the purpose of Industrial Training and \\nInternship.  \\n \\n…………………………………………………… \\n \\n \\n \\n Associate Dean (SW) and FIC, T&P \\nNational Institute of Technology Mizoram \\nEmail: adean_sw@nitmz.ac.in \\n \\nThis certificate has been issued with the approval of the Director, National Institute of Technology Mizoram \\n\", mimetype='text/plain', start_char_idx=None, end_char_idx=None, text_template='{metadata_str}\\n\\n{content}', metadata_template='{key}: {value}', metadata_seperator='\\n')]\n"
     ]
    }
   ],
   "source": [
    "pytesseract.pytesseract.tesseract_cmd = r\"C:\\Users\\Yazat\\AppData\\Local\\tesseract.exe\"\n",
    "\n",
    "def ocr_image(file_path):\n",
    "    return pytesseract.image_to_string(Image.open(file_path))\n",
    "\n",
    "def read_docx(file_path):\n",
    "    doc = Document(file_path)\n",
    "    return \"\\n\".join([para.text for para in doc.paragraphs])\n",
    "\n",
    "def read_txt(file_path):\n",
    "    with open(file_path, 'r', encoding='utf-8') as file:\n",
    "        return file.read()\n",
    "    \n",
    "def read_pdf(file_path):\n",
    "    \"\"\"Extract text from a PDF file.\"\"\"\n",
    "    pdf_document = fitz.open(file_path)\n",
    "    text = \"\"\n",
    "    for page_num in range(len(pdf_document)):\n",
    "        page = pdf_document.load_page(page_num)\n",
    "        text += page.get_text()\n",
    "    return text\n",
    "\n",
    "def load_documents_with_ocr(directory):\n",
    "    documents = []\n",
    "    for filename in os.listdir(directory):\n",
    "        file_path = os.path.join(directory, filename)\n",
    "        if os.path.isdir(file_path):\n",
    "            continue  # Skip directories within the main directory\n",
    "        if filename.endswith(\".pdf\"):\n",
    "            try:\n",
    "                pdf_text = read_pdf(file_path)\n",
    "                documents.append(Document(text=pdf_text, metadata={'file_name': filename}))\n",
    "            except Exception as e:\n",
    "                print(f\"Error loading PDF: {file_path}, {e}\")\n",
    "        elif filename.lower().endswith(('.png', '.jpg', '.jpeg', '.tiff', '.bmp', '.gif')):\n",
    "            ocr_text = ocr_image(file_path)\n",
    "            documents.append(Document(text=ocr_text, metadata={'file_name': filename}))\n",
    "        elif filename.endswith(\".docx\"):\n",
    "            docx_text = read_docx(file_path)\n",
    "            documents.append(Document(text=docx_text, metadata={'file_name': filename}))\n",
    "        elif filename.endswith(\".txt\"):\n",
    "            txt_text = read_txt(file_path)\n",
    "            documents.append(Document(text=txt_text, metadata={'file_name': filename}))\n",
    "    return documents\n",
    "\n",
    "documents = load_documents_with_ocr(r\"C:\\Users\\Yazat\\Desktop\\RAG\\pdf\")\n",
    "\n",
    "print(documents)"
   ]
  },
  {
   "cell_type": "code",
   "execution_count": 13,
   "metadata": {},
   "outputs": [],
   "source": [
    "system_prompt = \"\"\"\n",
    "    You are a technical assistant whose goal is to answer \n",
    "    questions based on the instructions \n",
    "    and the context provided. \n",
    "    If you do not have an answer from \n",
    "    the provided information say so.\n",
    "    \"\"\"\n",
    "    \n",
    "query_wrapper_prompt = SimpleInputPrompt(\"<|USER|>{query_str}<|ASSISTANT|>\")"
   ]
  },
  {
   "cell_type": "code",
   "execution_count": 14,
   "metadata": {},
   "outputs": [],
   "source": [
    "llm = Ollama(model=\"llama3:8b\", request_timeout = 20000)\n",
    "embed_model = HuggingFaceEmbedding(\n",
    "    model_name=\"sentence-transformers/multi-qa-MiniLM-L6-cos-v1\"\n",
    ")\n",
    "chunk_overlap = 30\n",
    "\n",
    "Settings.llm = llm\n",
    "Settings.embed_model = embed_model\n",
    "Settings.chunk_overlap = chunk_overlap\n"
   ]
  },
  {
   "cell_type": "code",
   "execution_count": 18,
   "metadata": {},
   "outputs": [
    {
     "name": "stderr",
     "output_type": "stream",
     "text": [
      "Parsing nodes: 100%|██████████| 3/3 [00:00<00:00, 143.32it/s]\n",
      "Generating embeddings: 100%|██████████| 2/2 [00:00<00:00,  2.56it/s]\n",
      "Generating embeddings: 100%|██████████| 2/2 [00:00<00:00,  4.59it/s]\n",
      "Generating embeddings: 100%|██████████| 8/8 [00:00<00:00, 10.78it/s]\n",
      "Processing nodes: 100%|██████████| 3/3 [27:39<00:00, 553.01s/it]"
     ]
    },
    {
     "name": "stdout",
     "output_type": "stream",
     "text": [
      "KnowledgeGraphIndex created successfully\n"
     ]
    },
    {
     "name": "stderr",
     "output_type": "stream",
     "text": [
      "\n"
     ]
    }
   ],
   "source": [
    "username = \"neo4j\"\n",
    "password = \"12345678\"\n",
    "url = \"neo4j://localhost:7687\"\n",
    "database = \"neo4j\"\n",
    "\n",
    "graph_store = Neo4jGraphStore(\n",
    "    username=username,\n",
    "    password=password,\n",
    "    url=url,\n",
    "    database=database,\n",
    ")\n",
    "\n",
    "storage_context = StorageContext.from_defaults(graph_store=graph_store)\n",
    "\n",
    "index = KnowledgeGraphIndex.from_documents(\n",
    "    documents, \n",
    "    storage_context=storage_context,\n",
    "    llm=llm,\n",
    "    embed_model=embed_model,\n",
    "    show_progress=True,\n",
    "    include_embeddings=True\n",
    ")\n",
    "\n",
    "print(\"KnowledgeGraphIndex created successfully\")"
   ]
  },
  {
   "cell_type": "code",
   "execution_count": 19,
   "metadata": {},
   "outputs": [
    {
     "name": "stdout",
     "output_type": "stream",
     "text": [
      "Yazat underwent his high school at Amity Noida. He is currently studying at National Institute of Technology Mizoram."
     ]
    }
   ],
   "source": [
    "# from IPython.display import Markdown, display, HTML\n",
    "\n",
    "query_engine = index.as_query_engine(streaming=True)\n",
    "streaming_response = query_engine.query(\"Tell me where has Yazat undergone his high school and where is he currently studying from?\")\n",
    "streaming_response.print_response_stream()\n",
    "\n",
    "# response = query_engine.query(\n",
    "#     \"Tell me where has Yazat undergone his high school and where is he currently studying from?\"\n",
    "# )\n",
    "\n",
    "# display(Markdown(f\"<b>{response}</b>\"))"
   ]
  },
  {
   "cell_type": "code",
   "execution_count": null,
   "metadata": {},
   "outputs": [],
   "source": []
  }
 ],
 "metadata": {
  "kernelspec": {
   "display_name": "Python 3",
   "language": "python",
   "name": "python3"
  },
  "language_info": {
   "codemirror_mode": {
    "name": "ipython",
    "version": 3
   },
   "file_extension": ".py",
   "mimetype": "text/x-python",
   "name": "python",
   "nbconvert_exporter": "python",
   "pygments_lexer": "ipython3",
   "version": "3.12.3"
  }
 },
 "nbformat": 4,
 "nbformat_minor": 2
}
